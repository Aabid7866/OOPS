{
  "nbformat": 4,
  "nbformat_minor": 0,
  "metadata": {
    "colab": {
      "provenance": []
    },
    "kernelspec": {
      "name": "python3",
      "display_name": "Python 3"
    },
    "language_info": {
      "name": "python"
    }
  },
  "cells": [
    {
      "cell_type": "markdown",
      "source": [
        "**THEORY**"
      ],
      "metadata": {
        "id": "B0782Um_i9GK"
      }
    },
    {
      "cell_type": "markdown",
      "source": [
        "**1. What is Object-Oriented Programming (OOP)?**\n",
        "-  Object-Oriented Programming (OOP) is a programming paradigm that structures programs using classes and objects. It allows developers to model real-world entities as objects that contain both data (attributes) and behavior (methods). OOP promotes code reusability, modularity, and easier maintenance through its core principles: encapsulation, abstraction, inheritance, and polymorphism."
      ],
      "metadata": {
        "id": "8C3RGPznjBEa"
      }
    },
    {
      "cell_type": "markdown",
      "source": [
        "**2. What is a class in OOP?**\n",
        "-  A class in OOP is a blueprint or template for creating objects. It defines the attributes and methods that the created objects will have. Essentially, a class acts as a user-defined data type that holds common behaviors and properties for all its instances. For example, a Car class may define properties like brand and methods like start or stop."
      ],
      "metadata": {
        "id": "0De2IhWKjVH3"
      }
    },
    {
      "cell_type": "markdown",
      "source": [
        "**3. What is an object in OOP?**\n",
        "-  An object is an instance of a class. It represents a real-world entity that has specific values for the attributes defined in the class and can perform the behaviors (methods) associated with it. For instance, if Car is a class, then my_car = Car(\"Toyota\") creates an object my_car which has the properties of the Car class."
      ],
      "metadata": {
        "id": "80mIygpIjkiS"
      }
    },
    {
      "cell_type": "markdown",
      "source": [
        "**4. Difference between abstraction and encapsulation?**\n",
        "-  Abstraction and encapsulation are both core principles of OOP but serve different purposes. Abstraction focuses on hiding the internal implementation details and showing only the essential features of an object. It helps in reducing complexity. Encapsulation, on the other hand, is about restricting direct access to some of an object’s components by making variables private and providing public methods to access or modify them. While abstraction is concerned with what an object does, encapsulation is about how it does it."
      ],
      "metadata": {
        "id": "L3WtqVk8jwAL"
      }
    },
    {
      "cell_type": "markdown",
      "source": [
        "**5. What are dunder methods in Python?**\n",
        "-  Dunder methods, short for \"double underscore\" methods, are special methods in Python that begin and end with double underscores, such as __init__, __str__, and __add__. These methods allow classes to implement behavior that mimics built-in types, such as initialization, string representation, operator overloading, and more. They make objects interact naturally with Python syntax and built-in functions."
      ],
      "metadata": {
        "id": "8v3bDbaIj8H6"
      }
    },
    {
      "cell_type": "markdown",
      "source": [
        "**6. Explain inheritance in OOP.**\n",
        "-  Inheritance is a principle in OOP that allows one class (called the child or subclass) to inherit attributes and methods from another class (called the parent or superclass). This promotes code reusability and establishes a relationship between classes. For example, if a Vehicle class has general methods like start(), a Car class can inherit from Vehicle and reuse those methods while adding car-specific features."
      ],
      "metadata": {
        "id": "0WQBsTBmkH0J"
      }
    },
    {
      "cell_type": "markdown",
      "source": [
        "**7. What is polymorphism in OOP?**\n",
        "-  Polymorphism means \"many forms\" and allows methods to behave differently based on the object calling them. In OOP, polymorphism enables the same method name to be used in different classes with different implementations. For example, both a Dog and a Cat class might have a speak() method, but each will produce a different output. Polymorphism makes code more flexible and extensible."
      ],
      "metadata": {
        "id": "OSCrJZYNkXZM"
      }
    },
    {
      "cell_type": "markdown",
      "source": [
        "**8. How is encapsulation achieved in Python?**\n",
        "-  Encapsulation in Python is achieved by defining class attributes as private using a single or double underscore prefix, such as _balance or __balance. Access to these variables is then controlled using getter and setter methods. This prevents outside interference and ensures that the internal state of an object can only be changed in a controlled manner, enhancing data security and integrity."
      ],
      "metadata": {
        "id": "sc0MDdwykm-X"
      }
    },
    {
      "cell_type": "markdown",
      "source": [
        "**9. What is a constructor in Python?**\n",
        "-  In Python, a constructor is a special method named __init__() that is automatically called when a new object of a class is created. It is used to initialize the object's attributes with user-defined or default values. Constructors help in setting up the initial state of the object at the time of creation.\n",
        "\n",
        "**10. Class methods vs static methods in Python?**\n",
        "-  Class methods and static methods are both methods that do not require access to instance-specific data. A class method is declared using the @classmethod decorator and takes cls as its first parameter, allowing access to class-level data. Static methods, defined with the @staticmethod decorator, do not take either self or cls and act like regular functions within a class, often used for utility operations related to the class but not dependent on class or instance data.\n",
        "\n",
        "**11. What is method overloading in Python?**\n",
        "-  Method overloading refers to defining multiple methods with the same name but different parameters. While traditional method overloading is not directly supported in Python, similar behavior can be achieved using default parameters, *args, or conditional logic inside a method to handle various cases. It helps increase the flexibility of functions and methods.\n",
        "\n",
        "**12. What is method overriding in OOP?**\n",
        "-  Method overriding occurs when a subclass provides its own implementation of a method that is already defined in its parent class. This allows a subclass to modify or completely replace the behavior of the inherited method, enabling specific behavior in the child class while maintaining the method signature.\n",
        "\n",
        "**13. What is a property decorator in Python?**\n",
        "-  The @property decorator in Python is used to define methods that behave like attributes. It allows you to access a method as if it were a variable. This is often used for implementing getters and allows encapsulated access to private data in a clean, readable way.\n",
        "\n",
        "**14. Why is polymorphism important in OOP?**\n",
        "- Polymorphism is important in OOP because it enables flexibility and scalability in code. It allows a single function or method to work with different types of objects, reducing redundancy and simplifying code. It also enables interface consistency and dynamic method binding during runtime.\n",
        "\n",
        "**15. What is an abstract class in Python?**\n",
        "-  An abstract class in Python is a class that cannot be instantiated and is designed to be a base class for other classes. It contains one or more abstract methods, which are methods declared but not implemented. Abstract classes are defined using the abc module and help enforce a consistent interface in subclasses.\n",
        "\n",
        "**16. Advantages of OOP?**\n",
        "-  OOP offers many advantages such as modularity, which makes code easier to manage; reusability, allowing classes to be used in different programs; encapsulation, which protects data; inheritance, which reduces code duplication; and polymorphism, which enables flexible and scalable code design. Overall, OOP helps in building complex applications in a structured and maintainable way.\n",
        "\n",
        "**17. Difference between class variable and instance variable?**\n",
        "-  A class variable is shared by all instances of the class and is defined outside any methods. It is used when a value should be the same for all objects. An instance variable, on the other hand, is unique to each object and is usually defined within the constructor using self. Changes to an instance variable affect only that object, while changes to a class variable affect all instances.\n",
        "\n",
        "**18. What is multiple inheritance in Python?**\n",
        "-  Multiple inheritance is a feature in Python where a class can inherit from more than one parent class. This allows a subclass to combine behaviors and attributes of multiple base classes. However, it can also lead to complexity such as the diamond problem, which Python resolves using the Method Resolution Order (MRO).\n",
        "\n",
        "**19. Purpose of __str__ and __repr__ methods?**\n",
        "-  The __str__ method returns a readable string representation of an object for end-users, often used with print(). The __repr__ method returns a detailed and unambiguous string representation meant for developers, often used in debugging. If __str__ is not defined, Python uses __repr__ as a fallback.\n",
        "\n",
        "**20. Significance of super() function in Python?**\n",
        "-  The super() function is used to call methods from a parent or sibling class. It is commonly used in constructors to ensure that the initialization of parent classes is performed when working with inheritance. It helps maintain proper method resolution and avoids duplicating code from base classes.\n",
        "\n",
        "**21. Significance of __del__ method in Python?**\n",
        "-  The __del__ method is a destructor in Python that is called when an object is about to be deleted or garbage collected. It can be used to perform cleanup operations such as closing files or releasing resources. However, its use is generally discouraged unless necessary, as Python’s garbage collector handles most cleanup.\n",
        "\n",
        "**22. Difference between @staticmethod and @classmethod?**\n",
        "-  A static method is a method that does not access instance or class-level data and behaves like a regular function placed inside a class. It is marked with @staticmethod. A class method, marked with @classmethod, takes the class (cls) as its first argument and can access or modify class-level variables. Static methods are useful for utility functions, while class methods are used when behavior needs to affect the class itself.\n",
        "\n",
        "**23. How does polymorphism work in Python with inheritance?**\n",
        "-  In Python, polymorphism through inheritance allows objects of different classes that share a common superclass to be treated as instances of that superclass. When a method is called on the parent reference, the child’s overridden method is executed if it exists, enabling dynamic behavior based on the object’s type.\n",
        "\n",
        "**24. What is method chaining in Python OOP?**\n",
        "-  Method chaining is a technique where multiple methods are called on the same object in a single line. This is achieved by having each method return self. It improves code readability and fluency, especially in builder patterns or data transformation pipelines.\n",
        "\n",
        "**25. What is the purpose of __call__ method?**\n",
        "-  The __call__ method allows an object to be called like a regular function. When defined in a class, calling an instance of that class executes the __call__ method. This is useful for cases where the object needs to behave like a function or where additional control over invocation is required."
      ],
      "metadata": {
        "id": "EQZZu81wk8Bu"
      }
    },
    {
      "cell_type": "markdown",
      "source": [
        "**PRACTICAL**"
      ],
      "metadata": {
        "id": "-dlsX3WamLt1"
      }
    },
    {
      "cell_type": "markdown",
      "source": [
        "**1. Create a parent class Animal with a method speak() that prints a generic message. Create a child class Dog\n",
        "that overrides the speak() method to print \"Bark!\".**"
      ],
      "metadata": {
        "id": "5oss0_qgmRW0"
      }
    },
    {
      "cell_type": "code",
      "source": [
        "class Animal:\n",
        "    def speak(self):\n",
        "        print(\"This is a generic animal sound.\")\n",
        "\n",
        "class Dog(Animal):\n",
        "    def speak(self):\n",
        "        print(\"Bark!\")\n",
        "\n",
        "dog = Dog()\n",
        "dog.speak()"
      ],
      "metadata": {
        "colab": {
          "base_uri": "https://localhost:8080/"
        },
        "id": "gYI-g-FimpJ5",
        "outputId": "871c22bf-4691-499b-e5c2-86ed0ee22ccd"
      },
      "execution_count": 1,
      "outputs": [
        {
          "output_type": "stream",
          "name": "stdout",
          "text": [
            "Bark!\n"
          ]
        }
      ]
    },
    {
      "cell_type": "markdown",
      "source": [
        "**2. Write a program to create an abstract class Shape with a method area(). Derive classes Circle and Rectangle\n",
        "from it and implement the area() method in both.\n",
        "from abc import ABC, abstractmethod**"
      ],
      "metadata": {
        "id": "M69mwTVpn6Us"
      }
    },
    {
      "cell_type": "code",
      "source": [
        "from abc import ABC, abstractmethod\n",
        "\n",
        "class Shape(ABC):\n",
        "    @abstractmethod\n",
        "    def area(self):\n",
        "        pass\n",
        "\n",
        "class Circle(Shape):\n",
        "    def __init__(self, radius):\n",
        "        self.radius = radius\n",
        "\n",
        "    def area(self):\n",
        "        return 3.14 * self.radius * self.radius\n",
        "\n",
        "class Rectangle(Shape):\n",
        "    def __init__(self, length, width):\n",
        "        self.length = length\n",
        "        self.width = width\n",
        "\n",
        "    def area(self):\n",
        "        return self.length * self.width\n",
        "\n",
        "circle = Circle(5)\n",
        "rectangle = Rectangle(4, 6)\n",
        "\n",
        "print(\"Circle Area:\", circle.area())\n",
        "print(\"Rectangle Area:\", rectangle.area())"
      ],
      "metadata": {
        "colab": {
          "base_uri": "https://localhost:8080/"
        },
        "id": "a9ANQuYXoKBE",
        "outputId": "a94ddbde-36ca-4150-a153-3c32eb10a24f"
      },
      "execution_count": 3,
      "outputs": [
        {
          "output_type": "stream",
          "name": "stdout",
          "text": [
            "Circle Area: 78.5\n",
            "Rectangle Area: 24\n"
          ]
        }
      ]
    },
    {
      "cell_type": "markdown",
      "source": [
        "**3. Implement a multi-level inheritance scenario where a class Vehicle has an attribute type. Derive a class Car\n",
        "and further derive a class ElectricCar that adds a battery attribute.**"
      ],
      "metadata": {
        "id": "0UXtHsRIob6a"
      }
    },
    {
      "cell_type": "code",
      "source": [
        "class Vehicle:\n",
        "    def __init__(self, type):\n",
        "        self.type = type\n",
        "\n",
        "class Car(Vehicle):\n",
        "    def __init__(self, type, brand):\n",
        "        super().__init__(type)\n",
        "        self.brand = brand\n",
        "\n",
        "class ElectricCar(Car):\n",
        "    def __init__(self, type, brand, battery):\n",
        "        super().__init__(type, brand)\n",
        "        self.battery = battery\n",
        "\n",
        "e_car = ElectricCar(\"Electric\", \"Tesla\", \"75 kWh\")\n",
        "print(f\"Type: {e_car.type}, Brand: {e_car.brand}, Battery: {e_car.battery}\")"
      ],
      "metadata": {
        "colab": {
          "base_uri": "https://localhost:8080/"
        },
        "id": "QbENNWrpokVg",
        "outputId": "88b5b447-fd81-41b0-90e2-36f4c80d05ad"
      },
      "execution_count": 4,
      "outputs": [
        {
          "output_type": "stream",
          "name": "stdout",
          "text": [
            "Type: Electric, Brand: Tesla, Battery: 75 kWh\n"
          ]
        }
      ]
    },
    {
      "cell_type": "markdown",
      "source": [
        "**4. Demonstrate polymorphism by creating a base class Bird with a method fly(). Create two derived classes\n",
        "Sparrow and Penguin that override the fly() method.**"
      ],
      "metadata": {
        "id": "Fs_2V-FLoxvf"
      }
    },
    {
      "cell_type": "code",
      "source": [
        "class Bird:\n",
        "    def fly(self):\n",
        "        print(\"Some birds can fly.\")\n",
        "\n",
        "class Sparrow(Bird):\n",
        "    def fly(self):\n",
        "        print(\"Sparrow flies high.\")\n",
        "\n",
        "class Penguin(Bird):\n",
        "    def fly(self):\n",
        "        print(\"Penguins can't fly.\")\n",
        "\n",
        "birds = [Sparrow(), Penguin()]\n",
        "for bird in birds:\n",
        "    bird.fly()"
      ],
      "metadata": {
        "colab": {
          "base_uri": "https://localhost:8080/"
        },
        "id": "65aO9PuZo6yu",
        "outputId": "87d9b48d-3371-4c13-cd1b-815c79cead32"
      },
      "execution_count": 5,
      "outputs": [
        {
          "output_type": "stream",
          "name": "stdout",
          "text": [
            "Sparrow flies high.\n",
            "Penguins can't fly.\n"
          ]
        }
      ]
    },
    {
      "cell_type": "markdown",
      "source": [
        "**5. Write a program to demonstrate encapsulation by creating a class BankAccount with private attributes\n",
        "balance and methods to deposit, withdraw, and check balance.**"
      ],
      "metadata": {
        "id": "BoF4OMNcpCBV"
      }
    },
    {
      "cell_type": "code",
      "source": [
        "class BankAccount:\n",
        "    def __init__(self):\n",
        "        self.__balance = 0\n",
        "\n",
        "    def deposit(self, amount):\n",
        "        self.__balance += amount\n",
        "\n",
        "    def withdraw(self, amount):\n",
        "        if amount <= self.__balance:\n",
        "            self.__balance -= amount\n",
        "        else:\n",
        "            print(\"Insufficient funds\")\n",
        "\n",
        "    def check_balance(self):\n",
        "        print(\"Balance:\", self.__balance)\n",
        "\n",
        "account = BankAccount()\n",
        "account.deposit(500)\n",
        "account.withdraw(200)\n",
        "account.check_balance()"
      ],
      "metadata": {
        "colab": {
          "base_uri": "https://localhost:8080/"
        },
        "id": "mV1RqgE4pKNo",
        "outputId": "5d799ddc-dfb6-4ad7-da5c-120c08a96b89"
      },
      "execution_count": 6,
      "outputs": [
        {
          "output_type": "stream",
          "name": "stdout",
          "text": [
            "Balance: 300\n"
          ]
        }
      ]
    },
    {
      "cell_type": "markdown",
      "source": [
        "**6. Demonstrate runtime polymorphism using a method play() in a base class Instrument. Derive classes Guitar\n",
        "and Piano that implement their own version of play().**"
      ],
      "metadata": {
        "id": "qsno5fDmpRb2"
      }
    },
    {
      "cell_type": "code",
      "source": [
        "class Instrument:\n",
        "    def play(self):\n",
        "        print(\"Playing some instrument.\")\n",
        "\n",
        "class Guitar(Instrument):\n",
        "    def play(self):\n",
        "        print(\"Playing the guitar.\")\n",
        "\n",
        "class Piano(Instrument):\n",
        "    def play(self):\n",
        "        print(\"Playing the piano.\")\n",
        "\n",
        "instruments = [Guitar(), Piano()]\n",
        "for i in instruments:\n",
        "    i.play()"
      ],
      "metadata": {
        "colab": {
          "base_uri": "https://localhost:8080/"
        },
        "id": "-860BQr0paUP",
        "outputId": "e0f31fc3-0c80-44f4-fcfb-4a08f2e6b012"
      },
      "execution_count": 7,
      "outputs": [
        {
          "output_type": "stream",
          "name": "stdout",
          "text": [
            "Playing the guitar.\n",
            "Playing the piano.\n"
          ]
        }
      ]
    },
    {
      "cell_type": "markdown",
      "source": [
        "**7. Create a class MathOperations with a class method add_numbers() to add two numbers and a static\n",
        "method subtract_numbers() to subtract two numbers.**"
      ],
      "metadata": {
        "id": "qazXT3yYpfa5"
      }
    },
    {
      "cell_type": "code",
      "source": [
        "class MathOperations:\n",
        "    @classmethod\n",
        "    def add_numbers(cls, a, b):\n",
        "        return a + b\n",
        "\n",
        "    @staticmethod\n",
        "    def subtract_numbers(a, b):\n",
        "        return a - b\n",
        "\n",
        "print(\"Add:\", MathOperations.add_numbers(10, 5))\n",
        "print(\"Subtract:\", MathOperations.subtract_numbers(10, 5))"
      ],
      "metadata": {
        "colab": {
          "base_uri": "https://localhost:8080/"
        },
        "id": "kKCUAZPapmvc",
        "outputId": "3dbfff11-f5bc-445a-ec0a-0049d1ffeb3b"
      },
      "execution_count": 8,
      "outputs": [
        {
          "output_type": "stream",
          "name": "stdout",
          "text": [
            "Add: 15\n",
            "Subtract: 5\n"
          ]
        }
      ]
    },
    {
      "cell_type": "markdown",
      "source": [
        "**8. Implement a class Person with a class method to count the total number of persons created.**"
      ],
      "metadata": {
        "id": "zlCNVTwapsXy"
      }
    },
    {
      "cell_type": "code",
      "source": [
        "class Person:\n",
        "    count = 0\n",
        "\n",
        "    def __init__(self, name):\n",
        "        self.name = name\n",
        "        Person.count += 1\n",
        "\n",
        "    @classmethod\n",
        "    def total_persons(cls):\n",
        "        return cls.count\n",
        "\n",
        "p1 = Person(\"BHAT\")\n",
        "p2 = Person(\"AABID\")\n",
        "\n",
        "print(\"Total Persons:\", Person.total_persons())"
      ],
      "metadata": {
        "colab": {
          "base_uri": "https://localhost:8080/"
        },
        "id": "sonOXyX2pzcc",
        "outputId": "174e7e02-2f44-459a-9bee-e10f17ce5318"
      },
      "execution_count": 9,
      "outputs": [
        {
          "output_type": "stream",
          "name": "stdout",
          "text": [
            "Total Persons: 2\n"
          ]
        }
      ]
    },
    {
      "cell_type": "markdown",
      "source": [
        "**9. Write a class Fraction with attributes numerator and denominator. Override the str method to display the\n",
        "fraction as \"numerator/denominator\".**"
      ],
      "metadata": {
        "id": "EX2fZfzzqTVe"
      }
    },
    {
      "cell_type": "code",
      "source": [
        "class Fraction:\n",
        "    def __init__(self, numerator, denominator):\n",
        "        self.numerator = numerator\n",
        "        self.denominator = denominator\n",
        "\n",
        "    def __str__(self):\n",
        "        return f\"{self.numerator}/{self.denominator}\"\n",
        "\n",
        "f = Fraction(3, 4)\n",
        "print(f)"
      ],
      "metadata": {
        "colab": {
          "base_uri": "https://localhost:8080/"
        },
        "id": "DrPD20tdqVK6",
        "outputId": "75581f89-8ee2-4b18-c1a0-abed72ae4076"
      },
      "execution_count": 10,
      "outputs": [
        {
          "output_type": "stream",
          "name": "stdout",
          "text": [
            "3/4\n"
          ]
        }
      ]
    },
    {
      "cell_type": "markdown",
      "source": [
        "**10. Demonstrate operator overloading by creating a class Vector and overriding the add method to add two\n",
        "vectors.**"
      ],
      "metadata": {
        "id": "jtYmSalkqZ-v"
      }
    },
    {
      "cell_type": "code",
      "source": [
        "class Vector:\n",
        "    def __init__(self, x, y):\n",
        "        self.x = x\n",
        "        self.y = y\n",
        "\n",
        "    def __add__(self, other):\n",
        "        return Vector(self.x + other.x, self.y + other.y)\n",
        "\n",
        "    def __str__(self):\n",
        "        return f\"Vector({self.x}, {self.y})\"\n",
        "\n",
        "v1 = Vector(1, 2)\n",
        "v2 = Vector(3, 4)\n",
        "v3 = v1 + v2\n",
        "print(v3)"
      ],
      "metadata": {
        "colab": {
          "base_uri": "https://localhost:8080/"
        },
        "id": "yq3rT5NmqJmh",
        "outputId": "bce61b5e-ffa9-46a1-b3f0-059fb8401bf4"
      },
      "execution_count": 11,
      "outputs": [
        {
          "output_type": "stream",
          "name": "stdout",
          "text": [
            "Vector(4, 6)\n"
          ]
        }
      ]
    },
    {
      "cell_type": "markdown",
      "source": [
        "**11. Create a class Person with attributes name and age. Add a method greet() that prints \"Hello, my name is\n",
        "{name} and I am {age} years old.\"**"
      ],
      "metadata": {
        "id": "yKpCE1WFqk5a"
      }
    },
    {
      "cell_type": "code",
      "source": [
        "class Person:\n",
        "    def __init__(self, name, age):\n",
        "        self.name = name\n",
        "        self.age = age\n",
        "\n",
        "    def greet(self):\n",
        "        print(f\"Hello, my name is {self.name} and I am {self.age} years old.\")\n",
        "\n",
        "p = Person(\"Aabid\", 23)\n",
        "p.greet()"
      ],
      "metadata": {
        "colab": {
          "base_uri": "https://localhost:8080/"
        },
        "id": "uu4n-qA8qpq8",
        "outputId": "32f04541-79a9-46ed-f197-11c97f692d2b"
      },
      "execution_count": 12,
      "outputs": [
        {
          "output_type": "stream",
          "name": "stdout",
          "text": [
            "Hello, my name is Aabid and I am 23 years old.\n"
          ]
        }
      ]
    },
    {
      "cell_type": "markdown",
      "source": [
        "**12. Implement a class Student with attributes name and grades. Create a method average_grade() to compute\n",
        "the average of the grades.**"
      ],
      "metadata": {
        "id": "5W5W0QM2qyzN"
      }
    },
    {
      "cell_type": "code",
      "source": [
        "class Student:\n",
        "    def __init__(self, name, grades):\n",
        "        self.name = name\n",
        "        self.grades = grades\n",
        "\n",
        "    def average_grade(self):\n",
        "        return sum(self.grades) / len(self.grades)\n",
        "\n",
        "s = Student(\"Ravi\", [80, 90, 85])\n",
        "print(\"Average Grade:\", s.average_grade())"
      ],
      "metadata": {
        "colab": {
          "base_uri": "https://localhost:8080/"
        },
        "id": "T1_pq3Yqq5Cu",
        "outputId": "267da0cf-b3d1-4d58-cc8d-cf109d123eb4"
      },
      "execution_count": 13,
      "outputs": [
        {
          "output_type": "stream",
          "name": "stdout",
          "text": [
            "Average Grade: 85.0\n"
          ]
        }
      ]
    },
    {
      "cell_type": "markdown",
      "source": [
        "**13. Create a class Rectangle with methods set_dimensions() to set the dimensions and area() to calculate the\n",
        "area.**"
      ],
      "metadata": {
        "id": "pxTDzHTvqJP2"
      }
    },
    {
      "cell_type": "code",
      "source": [
        "class Rectangle:\n",
        "    def set_dimensions(self, length, width):\n",
        "        self.length = length\n",
        "        self.width = width\n",
        "\n",
        "    def area(self):\n",
        "        return self.length * self.width\n",
        "\n",
        "r = Rectangle()\n",
        "r.set_dimensions(5, 3)\n",
        "print(\"Area:\", r.area())"
      ],
      "metadata": {
        "colab": {
          "base_uri": "https://localhost:8080/"
        },
        "id": "BmE8OkQ5rB0d",
        "outputId": "adebfc3d-1f64-4845-f89d-1ac0783c5751"
      },
      "execution_count": 14,
      "outputs": [
        {
          "output_type": "stream",
          "name": "stdout",
          "text": [
            "Area: 15\n"
          ]
        }
      ]
    },
    {
      "cell_type": "markdown",
      "source": [
        "**14. Create a class Employee with a method calculate_salary() that computes the salary based on hours worked\n",
        "and hourly rate. Create a derived class Manager that adds a bonus to the salary.**"
      ],
      "metadata": {
        "id": "nNolMgQIrHj2"
      }
    },
    {
      "cell_type": "code",
      "source": [
        "class Employee:\n",
        "    def calculate_salary(self, hours, rate):\n",
        "        return hours * rate\n",
        "\n",
        "class Manager(Employee):\n",
        "    def calculate_salary(self, hours, rate, bonus):\n",
        "        base = super().calculate_salary(hours, rate)\n",
        "        return base + bonus\n",
        "\n",
        "e = Employee()\n",
        "m = Manager()\n",
        "\n",
        "print(\"Employee Salary:\", e.calculate_salary(40, 100))\n",
        "print(\"Manager Salary:\", m.calculate_salary(40, 100, 500))"
      ],
      "metadata": {
        "colab": {
          "base_uri": "https://localhost:8080/"
        },
        "id": "FzaZ1DbZrQA_",
        "outputId": "7d98cc1f-8506-4c1d-f7d4-a48bf0b2c0b7"
      },
      "execution_count": 15,
      "outputs": [
        {
          "output_type": "stream",
          "name": "stdout",
          "text": [
            "Employee Salary: 4000\n",
            "Manager Salary: 4500\n"
          ]
        }
      ]
    },
    {
      "cell_type": "markdown",
      "source": [
        "**15. Create a class Product with attributes name, price, and quantity. Implement a method total_price() that\n",
        "calculates the total price of the product.**"
      ],
      "metadata": {
        "id": "9BulZPo0rVhW"
      }
    },
    {
      "cell_type": "code",
      "source": [
        "class Product:\n",
        "    def __init__(self, name, price, quantity):\n",
        "        self.name = name\n",
        "        self.price = price\n",
        "        self.quantity = quantity\n",
        "\n",
        "    def total_price(self):\n",
        "        return self.price * self.quantity\n",
        "\n",
        "p = Product(\"Laptop\", 50000, 2)\n",
        "print(\"Product:\", p.name)\n",
        "print(\"Total Price:\", p.total_price())"
      ],
      "metadata": {
        "colab": {
          "base_uri": "https://localhost:8080/"
        },
        "id": "KE0ha3Xnrdet",
        "outputId": "b91d2c05-e32e-4962-9cf9-feeae6095d7d"
      },
      "execution_count": 16,
      "outputs": [
        {
          "output_type": "stream",
          "name": "stdout",
          "text": [
            "Product: Laptop\n",
            "Total Price: 100000\n"
          ]
        }
      ]
    },
    {
      "cell_type": "markdown",
      "source": [
        "**16. Create a class Animal with an abstract method sound(). Create two derived classes Cow and Sheep that\n",
        "implement the sound() method.**"
      ],
      "metadata": {
        "id": "S2Up-MXfri4i"
      }
    },
    {
      "cell_type": "code",
      "source": [
        "from abc import ABC, abstractmethod\n",
        "\n",
        "class Animal(ABC):\n",
        "    @abstractmethod\n",
        "    def sound(self):\n",
        "        pass\n",
        "\n",
        "class Cow(Animal):\n",
        "    def sound(self):\n",
        "        print(\"Cow says Moo\")\n",
        "\n",
        "class Sheep(Animal):\n",
        "    def sound(self):\n",
        "        print(\"Sheep says Baa\")\n",
        "\n",
        "c = Cow()\n",
        "s = Sheep()\n",
        "\n",
        "c.sound()\n",
        "s.sound()"
      ],
      "metadata": {
        "colab": {
          "base_uri": "https://localhost:8080/"
        },
        "id": "ma77AOMtrm3_",
        "outputId": "f2425455-511a-49d0-ebc5-a82ec1b9ea3d"
      },
      "execution_count": 17,
      "outputs": [
        {
          "output_type": "stream",
          "name": "stdout",
          "text": [
            "Cow says Moo\n",
            "Sheep says Baa\n"
          ]
        }
      ]
    },
    {
      "cell_type": "markdown",
      "source": [
        "**17. Create a class Book with attributes title, author, and year_published. Add a method get_book_info() that\n",
        "returns a formatted string with the book's details.**"
      ],
      "metadata": {
        "id": "OV-PhwRMrwId"
      }
    },
    {
      "cell_type": "code",
      "source": [
        "class Book:\n",
        "    def __init__(self, title, author, year_published):\n",
        "        self.title = title\n",
        "        self.author = author\n",
        "        self.year_published = year_published\n",
        "\n",
        "    def get_book_info(self):\n",
        "        return f\"'{self.title}' by {self.author}, published in {self.year_published}\"\n",
        "\n",
        "book = Book(\"To Kill a Mockingbird\", \"Harper Lee\", 1960)\n",
        "print(book.get_book_info())"
      ],
      "metadata": {
        "colab": {
          "base_uri": "https://localhost:8080/"
        },
        "id": "cwlnFXINr7ZR",
        "outputId": "07570813-0d15-4294-9da7-21a7dec14834"
      },
      "execution_count": 18,
      "outputs": [
        {
          "output_type": "stream",
          "name": "stdout",
          "text": [
            "'To Kill a Mockingbird' by Harper Lee, published in 1960\n"
          ]
        }
      ]
    },
    {
      "cell_type": "markdown",
      "source": [
        "**18. Create a class House with attributes address and price. Create a derived class Mansion that adds an\n",
        "attribute number_of_rooms.**"
      ],
      "metadata": {
        "id": "e4fDVEl4sBdR"
      }
    },
    {
      "cell_type": "code",
      "source": [
        "class House:\n",
        "    def __init__(self, address, price):\n",
        "        self.address = address\n",
        "        self.price = price\n",
        "\n",
        "class Mansion(House):\n",
        "    def __init__(self, address, price, number_of_rooms):\n",
        "        super().__init__(address, price)\n",
        "        self.number_of_rooms = number_of_rooms\n",
        "\n",
        "m = Mansion(\"123 Elite Street\", 50000000, 10)\n",
        "print(\"Address:\", m.address)\n",
        "print(\"Price:\", m.price)\n",
        "print(\"Rooms:\", m.number_of_rooms)"
      ],
      "metadata": {
        "colab": {
          "base_uri": "https://localhost:8080/"
        },
        "id": "CZYSK5BPsFx0",
        "outputId": "0827ab79-9c78-453f-f103-b6faee928595"
      },
      "execution_count": 19,
      "outputs": [
        {
          "output_type": "stream",
          "name": "stdout",
          "text": [
            "Address: 123 Elite Street\n",
            "Price: 50000000\n",
            "Rooms: 10\n"
          ]
        }
      ]
    }
  ]
}